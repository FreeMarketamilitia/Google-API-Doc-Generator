{
  "cells": [
    {
      "cell_type": "markdown",
      "metadata": {},
      "source": [
        "# 🚀 discovery API Interactive Notebook (v1)\n",
        "This notebook provides examples and documentation for using the API."
      ]
    },
    {
      "cell_type": "code",
      "metadata": {},
      "source": [
        "!pip install google-api-python-client",
        "\nfrom googleapiclient.discovery import build",
        "\n# Initialize the API client",
        "\nservice = build('discovery', 'v1')",
        "\nprint('✅ API client initialized successfully!')"
      ]
    },
    {
      "cell_type": "markdown",
      "metadata": {},
      "source": [
        "## list\n",
        "**HTTP Method:** GET\n",
        "**Path:** apis\n",
        "\nRetrieve the list of APIs supported at this endpoint."
      ]
    },
    {
      "cell_type": "code",
      "metadata": {},
      "source": [
        "# Example usage of list",
        "\nresponse = service.apis().list().execute()",
        "\nprint(response)"
      ]
    },
    {
      "cell_type": "markdown",
      "metadata": {},
      "source": [
        "## getRest\n",
        "**HTTP Method:** GET\n",
        "**Path:** apis/{api}/{version}/rest\n",
        "\nRetrieve the description of a particular version of an api."
      ]
    },
    {
      "cell_type": "code",
      "metadata": {},
      "source": [
        "# Example usage of getRest",
        "\nresponse = service.apis().getRest().execute()",
        "\nprint(response)"
      ]
    }
  ],
  "metadata": {
    "colab": {
      "name": "discovery API Examples",
      "provenance": [],
      "toc_visible": true
    },
    "kernelspec": {
      "display_name": "Python 3",
      "name": "python3"
    }
  },
  "nbformat": 4,
  "nbformat_minor": 4
}