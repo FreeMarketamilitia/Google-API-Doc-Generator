{
  "cells": [
    {
      "cell_type": "markdown",
      "metadata": {},
      "source": [
        "# \ud83d\ude80 accessapproval API Interactive Notebook (v1)\n",
        "This notebook provides examples and documentation for using the API."
      ]
    },
    {
      "cell_type": "code",
      "metadata": {},
      "source": [
        "!pip install google-api-python-client",
        "\nfrom googleapiclient.discovery import build",
        "\n# Initialize the API client",
        "\nservice = build('accessapproval', 'v1')",
        "\nprint('\u2705 API client initialized successfully!')"
      ]
    },
    {
      "cell_type": "markdown",
      "metadata": {},
      "source": [
        "## getAccessApprovalSettings\n",
        "**HTTP Method:** GET\n",
        "**Path:** v1/{+name}\n",
        "\nGets the settings associated with a project, folder, or organization."
      ]
    },
    {
      "cell_type": "code",
      "metadata": {},
      "source": [
        "# Example usage of getAccessApprovalSettings",
        "\nresponse = service.projects().getAccessApprovalSettings().execute()",
        "\nprint(response)"
      ]
    },
    {
      "cell_type": "markdown",
      "metadata": {},
      "source": [
        "## updateAccessApprovalSettings\n",
        "**HTTP Method:** PATCH\n",
        "**Path:** v1/{+name}\n",
        "\nUpdates the settings associated with a project, folder, or organization. Settings to update are determined by the value of field_mask."
      ]
    },
    {
      "cell_type": "code",
      "metadata": {},
      "source": [
        "# Example usage of updateAccessApprovalSettings",
        "\nresponse = service.projects().updateAccessApprovalSettings().execute()",
        "\nprint(response)"
      ]
    },
    {
      "cell_type": "markdown",
      "metadata": {},
      "source": [
        "## deleteAccessApprovalSettings\n",
        "**HTTP Method:** DELETE\n",
        "**Path:** v1/{+name}\n",
        "\nDeletes the settings associated with a project, folder, or organization. This will have the effect of disabling Access Approval for the project, folder, or organization, but only if all ancestors also have Access Approval disabled. If Access Approval is enabled at a higher level of the hierarchy, then Access Approval will still be enabled at this level as the settings are inherited."
      ]
    },
    {
      "cell_type": "code",
      "metadata": {},
      "source": [
        "# Example usage of deleteAccessApprovalSettings",
        "\nresponse = service.projects().deleteAccessApprovalSettings().execute()",
        "\nprint(response)"
      ]
    },
    {
      "cell_type": "markdown",
      "metadata": {},
      "source": [
        "## getServiceAccount\n",
        "**HTTP Method:** GET\n",
        "**Path:** v1/{+name}\n",
        "\nRetrieves the service account that is used by Access Approval to access KMS keys for signing approved approval requests."
      ]
    },
    {
      "cell_type": "code",
      "metadata": {},
      "source": [
        "# Example usage of getServiceAccount",
        "\nresponse = service.projects().getServiceAccount().execute()",
        "\nprint(response)"
      ]
    },
    {
      "cell_type": "markdown",
      "metadata": {},
      "source": [
        "## getAccessApprovalSettings\n",
        "**HTTP Method:** GET\n",
        "**Path:** v1/{+name}\n",
        "\nGets the settings associated with a project, folder, or organization."
      ]
    },
    {
      "cell_type": "code",
      "metadata": {},
      "source": [
        "# Example usage of getAccessApprovalSettings",
        "\nresponse = service.folders().getAccessApprovalSettings().execute()",
        "\nprint(response)"
      ]
    },
    {
      "cell_type": "markdown",
      "metadata": {},
      "source": [
        "## updateAccessApprovalSettings\n",
        "**HTTP Method:** PATCH\n",
        "**Path:** v1/{+name}\n",
        "\nUpdates the settings associated with a project, folder, or organization. Settings to update are determined by the value of field_mask."
      ]
    },
    {
      "cell_type": "code",
      "metadata": {},
      "source": [
        "# Example usage of updateAccessApprovalSettings",
        "\nresponse = service.folders().updateAccessApprovalSettings().execute()",
        "\nprint(response)"
      ]
    },
    {
      "cell_type": "markdown",
      "metadata": {},
      "source": [
        "## deleteAccessApprovalSettings\n",
        "**HTTP Method:** DELETE\n",
        "**Path:** v1/{+name}\n",
        "\nDeletes the settings associated with a project, folder, or organization. This will have the effect of disabling Access Approval for the project, folder, or organization, but only if all ancestors also have Access Approval disabled. If Access Approval is enabled at a higher level of the hierarchy, then Access Approval will still be enabled at this level as the settings are inherited."
      ]
    },
    {
      "cell_type": "code",
      "metadata": {},
      "source": [
        "# Example usage of deleteAccessApprovalSettings",
        "\nresponse = service.folders().deleteAccessApprovalSettings().execute()",
        "\nprint(response)"
      ]
    },
    {
      "cell_type": "markdown",
      "metadata": {},
      "source": [
        "## getServiceAccount\n",
        "**HTTP Method:** GET\n",
        "**Path:** v1/{+name}\n",
        "\nRetrieves the service account that is used by Access Approval to access KMS keys for signing approved approval requests."
      ]
    },
    {
      "cell_type": "code",
      "metadata": {},
      "source": [
        "# Example usage of getServiceAccount",
        "\nresponse = service.folders().getServiceAccount().execute()",
        "\nprint(response)"
      ]
    },
    {
      "cell_type": "markdown",
      "metadata": {},
      "source": [
        "## getAccessApprovalSettings\n",
        "**HTTP Method:** GET\n",
        "**Path:** v1/{+name}\n",
        "\nGets the settings associated with a project, folder, or organization."
      ]
    },
    {
      "cell_type": "code",
      "metadata": {},
      "source": [
        "# Example usage of getAccessApprovalSettings",
        "\nresponse = service.organizations().getAccessApprovalSettings().execute()",
        "\nprint(response)"
      ]
    },
    {
      "cell_type": "markdown",
      "metadata": {},
      "source": [
        "## updateAccessApprovalSettings\n",
        "**HTTP Method:** PATCH\n",
        "**Path:** v1/{+name}\n",
        "\nUpdates the settings associated with a project, folder, or organization. Settings to update are determined by the value of field_mask."
      ]
    },
    {
      "cell_type": "code",
      "metadata": {},
      "source": [
        "# Example usage of updateAccessApprovalSettings",
        "\nresponse = service.organizations().updateAccessApprovalSettings().execute()",
        "\nprint(response)"
      ]
    },
    {
      "cell_type": "markdown",
      "metadata": {},
      "source": [
        "## deleteAccessApprovalSettings\n",
        "**HTTP Method:** DELETE\n",
        "**Path:** v1/{+name}\n",
        "\nDeletes the settings associated with a project, folder, or organization. This will have the effect of disabling Access Approval for the project, folder, or organization, but only if all ancestors also have Access Approval disabled. If Access Approval is enabled at a higher level of the hierarchy, then Access Approval will still be enabled at this level as the settings are inherited."
      ]
    },
    {
      "cell_type": "code",
      "metadata": {},
      "source": [
        "# Example usage of deleteAccessApprovalSettings",
        "\nresponse = service.organizations().deleteAccessApprovalSettings().execute()",
        "\nprint(response)"
      ]
    },
    {
      "cell_type": "markdown",
      "metadata": {},
      "source": [
        "## getServiceAccount\n",
        "**HTTP Method:** GET\n",
        "**Path:** v1/{+name}\n",
        "\nRetrieves the service account that is used by Access Approval to access KMS keys for signing approved approval requests."
      ]
    },
    {
      "cell_type": "code",
      "metadata": {},
      "source": [
        "# Example usage of getServiceAccount",
        "\nresponse = service.organizations().getServiceAccount().execute()",
        "\nprint(response)"
      ]
    }
  ],
  "metadata": {
    "colab": {
      "name": "accessapproval API Examples",
      "provenance": [],
      "toc_visible": true
    },
    "kernelspec": {
      "display_name": "Python 3",
      "name": "python3"
    }
  },
  "nbformat": 4,
  "nbformat_minor": 4
}