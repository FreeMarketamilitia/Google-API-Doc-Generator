{
  "cells": [
    {
      "cell_type": "markdown",
      "metadata": {},
      "source": [
        "# 🚀 apigee API Interactive Notebook (v1)\n",
        "This notebook provides examples and documentation for using the API."
      ]
    },
    {
      "cell_type": "code",
      "metadata": {},
      "source": [
        "!pip install google-api-python-client",
        "\nfrom googleapiclient.discovery import build",
        "\n# Initialize the API client",
        "\nservice = build('apigee', 'v1')",
        "\nprint('✅ API client initialized successfully!')"
      ]
    },
    {
      "cell_type": "markdown",
      "metadata": {},
      "source": [
        "## provisionOrganization\n",
        "**HTTP Method:** POST\n",
        "**Path:** v1/{+project}:provisionOrganization\n",
        "\nProvisions a new Apigee organization with a functioning runtime. This is the standard way to create trial organizations for a free Apigee trial."
      ]
    },
    {
      "cell_type": "code",
      "metadata": {},
      "source": [
        "# Example usage of provisionOrganization",
        "\nresponse = service.projects().provisionOrganization().execute()",
        "\nprint(response)"
      ]
    },
    {
      "cell_type": "markdown",
      "metadata": {},
      "source": [
        "## updateControlPlaneAccess\n",
        "**HTTP Method:** PATCH\n",
        "**Path:** v1/{+name}\n",
        "\nUpdates the permissions required to allow Apigee runtime-plane components access to the control plane. Currently, the permissions required are to: 1. Allow runtime components to publish analytics data to the control plane. **Note**: Available to Apigee hybrid only."
      ]
    },
    {
      "cell_type": "code",
      "metadata": {},
      "source": [
        "# Example usage of updateControlPlaneAccess",
        "\nresponse = service.organizations().updateControlPlaneAccess().execute()",
        "\nprint(response)"
      ]
    },
    {
      "cell_type": "markdown",
      "metadata": {},
      "source": [
        "## update\n",
        "**HTTP Method:** PUT\n",
        "**Path:** v1/{+name}\n",
        "\nUpdates the properties for an Apigee organization. No other fields in the organization profile will be updated."
      ]
    },
    {
      "cell_type": "code",
      "metadata": {},
      "source": [
        "# Example usage of update",
        "\nresponse = service.organizations().update().execute()",
        "\nprint(response)"
      ]
    },
    {
      "cell_type": "markdown",
      "metadata": {},
      "source": [
        "## getSecuritySettings\n",
        "**HTTP Method:** GET\n",
        "**Path:** v1/{+name}\n",
        "\nGetSecuritySettings gets the security settings for API Security."
      ]
    },
    {
      "cell_type": "code",
      "metadata": {},
      "source": [
        "# Example usage of getSecuritySettings",
        "\nresponse = service.organizations().getSecuritySettings().execute()",
        "\nprint(response)"
      ]
    },
    {
      "cell_type": "markdown",
      "metadata": {},
      "source": [
        "## create\n",
        "**HTTP Method:** POST\n",
        "**Path:** v1/organizations\n",
        "\nCreates an Apigee organization. See [Create an Apigee organization](https://cloud.google.com/apigee/docs/api-platform/get-started/create-org)."
      ]
    },
    {
      "cell_type": "code",
      "metadata": {},
      "source": [
        "# Example usage of create",
        "\nresponse = service.organizations().create().execute()",
        "\nprint(response)"
      ]
    },
    {
      "cell_type": "markdown",
      "metadata": {},
      "source": [
        "## getDeployedIngressConfig\n",
        "**HTTP Method:** GET\n",
        "**Path:** v1/{+name}\n",
        "\nGets the deployed ingress configuration for an organization."
      ]
    },
    {
      "cell_type": "code",
      "metadata": {},
      "source": [
        "# Example usage of getDeployedIngressConfig",
        "\nresponse = service.organizations().getDeployedIngressConfig().execute()",
        "\nprint(response)"
      ]
    },
    {
      "cell_type": "markdown",
      "metadata": {},
      "source": [
        "## updateSecuritySettings\n",
        "**HTTP Method:** PATCH\n",
        "**Path:** v1/{+name}\n",
        "\nUpdateSecuritySettings updates the current security settings for API Security."
      ]
    },
    {
      "cell_type": "code",
      "metadata": {},
      "source": [
        "# Example usage of updateSecuritySettings",
        "\nresponse = service.organizations().updateSecuritySettings().execute()",
        "\nprint(response)"
      ]
    },
    {
      "cell_type": "markdown",
      "metadata": {},
      "source": [
        "## getSyncAuthorization\n",
        "**HTTP Method:** POST\n",
        "**Path:** v1/{+name}:getSyncAuthorization\n",
        "\nLists the service accounts with the permissions required to allow the Synchronizer to download environment data from the control plane. An ETag is returned in the response to `getSyncAuthorization`. Pass that ETag when calling [setSyncAuthorization](setSyncAuthorization) to ensure that you are updating the correct version. If you don't pass the ETag in the call to `setSyncAuthorization`, then the existing authorization is overwritten indiscriminately. For more information, see [Configure the Synchronizer](https://cloud.google.com/apigee/docs/hybrid/latest/synchronizer-access). **Note**: Available to Apigee hybrid only."
      ]
    },
    {
      "cell_type": "code",
      "metadata": {},
      "source": [
        "# Example usage of getSyncAuthorization",
        "\nresponse = service.organizations().getSyncAuthorization().execute()",
        "\nprint(response)"
      ]
    },
    {
      "cell_type": "markdown",
      "metadata": {},
      "source": [
        "## setAddons\n",
        "**HTTP Method:** POST\n",
        "**Path:** v1/{+org}:setAddons\n",
        "\nConfigures the add-ons for the Apigee organization. The existing add-on configuration will be fully replaced."
      ]
    },
    {
      "cell_type": "code",
      "metadata": {},
      "source": [
        "# Example usage of setAddons",
        "\nresponse = service.organizations().setAddons().execute()",
        "\nprint(response)"
      ]
    },
    {
      "cell_type": "markdown",
      "metadata": {},
      "source": [
        "## delete\n",
        "**HTTP Method:** DELETE\n",
        "**Path:** v1/{+name}\n",
        "\nDelete an Apigee organization. For organizations with BillingType EVALUATION, an immediate deletion is performed. For paid organizations (Subscription or Pay-as-you-go), a soft-deletion is performed. The organization can be restored within the soft-deletion period, which is specified using the `retention` field in the request or by filing a support ticket with Apigee. During the data retention period specified in the request, the Apigee organization cannot be recreated in the same Google Cloud project. **IMPORTANT: The default data retention setting for this operation is 7 days. To permanently delete the organization in 24 hours, set the retention parameter to `MINIMUM`.**"
      ]
    },
    {
      "cell_type": "code",
      "metadata": {},
      "source": [
        "# Example usage of delete",
        "\nresponse = service.organizations().delete().execute()",
        "\nprint(response)"
      ]
    },
    {
      "cell_type": "markdown",
      "metadata": {},
      "source": [
        "## getControlPlaneAccess\n",
        "**HTTP Method:** GET\n",
        "**Path:** v1/{+name}\n",
        "\nLists the service accounts allowed to access Apigee control plane directly for limited functionality. **Note**: Available to Apigee hybrid only."
      ]
    },
    {
      "cell_type": "code",
      "metadata": {},
      "source": [
        "# Example usage of getControlPlaneAccess",
        "\nresponse = service.organizations().getControlPlaneAccess().execute()",
        "\nprint(response)"
      ]
    },
    {
      "cell_type": "markdown",
      "metadata": {},
      "source": [
        "## get\n",
        "**HTTP Method:** GET\n",
        "**Path:** v1/{+name}\n",
        "\nGets the profile for an Apigee organization. See [Understanding organizations](https://cloud.google.com/apigee/docs/api-platform/fundamentals/organization-structure)."
      ]
    },
    {
      "cell_type": "code",
      "metadata": {},
      "source": [
        "# Example usage of get",
        "\nresponse = service.organizations().get().execute()",
        "\nprint(response)"
      ]
    },
    {
      "cell_type": "markdown",
      "metadata": {},
      "source": [
        "## getProjectMapping\n",
        "**HTTP Method:** GET\n",
        "**Path:** v1/{+name}:getProjectMapping\n",
        "\nGets the project ID and region for an Apigee organization."
      ]
    },
    {
      "cell_type": "code",
      "metadata": {},
      "source": [
        "# Example usage of getProjectMapping",
        "\nresponse = service.organizations().getProjectMapping().execute()",
        "\nprint(response)"
      ]
    },
    {
      "cell_type": "markdown",
      "metadata": {},
      "source": [
        "## setSyncAuthorization\n",
        "**HTTP Method:** POST\n",
        "**Path:** v1/{+name}:setSyncAuthorization\n",
        "\nSets the permissions required to allow the Synchronizer to download environment data from the control plane. You must call this API to enable proper functioning of hybrid. Pass the ETag when calling `setSyncAuthorization` to ensure that you are updating the correct version. To get an ETag, call [getSyncAuthorization](getSyncAuthorization). If you don't pass the ETag in the call to `setSyncAuthorization`, then the existing authorization is overwritten indiscriminately. For more information, see [Configure the Synchronizer](https://cloud.google.com/apigee/docs/hybrid/latest/synchronizer-access). **Note**: Available to Apigee hybrid only."
      ]
    },
    {
      "cell_type": "code",
      "metadata": {},
      "source": [
        "# Example usage of setSyncAuthorization",
        "\nresponse = service.organizations().setSyncAuthorization().execute()",
        "\nprint(response)"
      ]
    },
    {
      "cell_type": "markdown",
      "metadata": {},
      "source": [
        "## list\n",
        "**HTTP Method:** GET\n",
        "**Path:** v1/{+parent}\n",
        "\nLists the Apigee organizations and associated Google Cloud projects that you have permission to access. See [Understanding organizations](https://cloud.google.com/apigee/docs/api-platform/fundamentals/organization-structure)."
      ]
    },
    {
      "cell_type": "code",
      "metadata": {},
      "source": [
        "# Example usage of list",
        "\nresponse = service.organizations().list().execute()",
        "\nprint(response)"
      ]
    },
    {
      "cell_type": "markdown",
      "metadata": {},
      "source": [
        "## getRuntimeConfig\n",
        "**HTTP Method:** GET\n",
        "**Path:** v1/{+name}\n",
        "\nGet runtime config for an organization."
      ]
    },
    {
      "cell_type": "code",
      "metadata": {},
      "source": [
        "# Example usage of getRuntimeConfig",
        "\nresponse = service.organizations().getRuntimeConfig().execute()",
        "\nprint(response)"
      ]
    }
  ],
  "metadata": {
    "colab": {
      "name": "apigee API Examples",
      "provenance": [],
      "toc_visible": true
    },
    "kernelspec": {
      "display_name": "Python 3",
      "name": "python3"
    }
  },
  "nbformat": 4,
  "nbformat_minor": 4
}